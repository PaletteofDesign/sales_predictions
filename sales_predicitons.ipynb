{
  "nbformat": 4,
  "nbformat_minor": 0,
  "metadata": {
    "colab": {
      "name": "sales_predicitons.ipynb",
      "provenance": [],
      "collapsed_sections": [],
      "mount_file_id": "https://github.com/PaletteofDesign/sales_predictions/blob/main/sales_predicitons.ipynb",
      "authorship_tag": "ABX9TyMU+0pJAQlzA9aeE8W64ZOn",
      "include_colab_link": true
    },
    "kernelspec": {
      "name": "python3",
      "display_name": "Python 3"
    },
    "language_info": {
      "name": "python"
    }
  },
  "cells": [
    {
      "cell_type": "markdown",
      "metadata": {
        "id": "view-in-github",
        "colab_type": "text"
      },
      "source": [
        "<a href=\"https://colab.research.google.com/github/PaletteofDesign/sales_predictions/blob/main/sales_predicitons.ipynb\" target=\"_parent\"><img src=\"https://colab.research.google.com/assets/colab-badge.svg\" alt=\"Open In Colab\"/></a>"
      ]
    },
    {
      "cell_type": "code",
      "metadata": {
        "colab": {
          "base_uri": "https://localhost:8080/",
          "height": 309
        },
        "id": "t4FnGfRfTN11",
        "outputId": "4c695d92-fe84-48d0-e9e0-b0cc9026586b"
      },
      "source": [
        "import pandas as pd\n",
        "import matplotlib.pyplot as plt\n",
        "import seaborn as sns\n",
        "import numpy as np\n",
        "\n",
        "import warnings\n",
        "warnings.filterwarnings('ignore')\n",
        "\n",
        "filename = '/content/sales_predictions.csv'\n",
        "df = pd.read_csv(filename)\n",
        "df.head()"
      ],
      "execution_count": 1,
      "outputs": [
        {
          "output_type": "execute_result",
          "data": {
            "text/html": [
              "<div>\n",
              "<style scoped>\n",
              "    .dataframe tbody tr th:only-of-type {\n",
              "        vertical-align: middle;\n",
              "    }\n",
              "\n",
              "    .dataframe tbody tr th {\n",
              "        vertical-align: top;\n",
              "    }\n",
              "\n",
              "    .dataframe thead th {\n",
              "        text-align: right;\n",
              "    }\n",
              "</style>\n",
              "<table border=\"1\" class=\"dataframe\">\n",
              "  <thead>\n",
              "    <tr style=\"text-align: right;\">\n",
              "      <th></th>\n",
              "      <th>Item_Identifier</th>\n",
              "      <th>Item_Weight</th>\n",
              "      <th>Item_Fat_Content</th>\n",
              "      <th>Item_Visibility</th>\n",
              "      <th>Item_Type</th>\n",
              "      <th>Item_MRP</th>\n",
              "      <th>Outlet_Identifier</th>\n",
              "      <th>Outlet_Establishment_Year</th>\n",
              "      <th>Outlet_Size</th>\n",
              "      <th>Outlet_Location_Type</th>\n",
              "      <th>Outlet_Type</th>\n",
              "      <th>Item_Outlet_Sales</th>\n",
              "    </tr>\n",
              "  </thead>\n",
              "  <tbody>\n",
              "    <tr>\n",
              "      <th>0</th>\n",
              "      <td>FDA15</td>\n",
              "      <td>9.30</td>\n",
              "      <td>Low Fat</td>\n",
              "      <td>0.016047</td>\n",
              "      <td>Dairy</td>\n",
              "      <td>249.8092</td>\n",
              "      <td>OUT049</td>\n",
              "      <td>1999</td>\n",
              "      <td>Medium</td>\n",
              "      <td>Tier 1</td>\n",
              "      <td>Supermarket Type1</td>\n",
              "      <td>3735.1380</td>\n",
              "    </tr>\n",
              "    <tr>\n",
              "      <th>1</th>\n",
              "      <td>DRC01</td>\n",
              "      <td>5.92</td>\n",
              "      <td>Regular</td>\n",
              "      <td>0.019278</td>\n",
              "      <td>Soft Drinks</td>\n",
              "      <td>48.2692</td>\n",
              "      <td>OUT018</td>\n",
              "      <td>2009</td>\n",
              "      <td>Medium</td>\n",
              "      <td>Tier 3</td>\n",
              "      <td>Supermarket Type2</td>\n",
              "      <td>443.4228</td>\n",
              "    </tr>\n",
              "    <tr>\n",
              "      <th>2</th>\n",
              "      <td>FDN15</td>\n",
              "      <td>17.50</td>\n",
              "      <td>Low Fat</td>\n",
              "      <td>0.016760</td>\n",
              "      <td>Meat</td>\n",
              "      <td>141.6180</td>\n",
              "      <td>OUT049</td>\n",
              "      <td>1999</td>\n",
              "      <td>Medium</td>\n",
              "      <td>Tier 1</td>\n",
              "      <td>Supermarket Type1</td>\n",
              "      <td>2097.2700</td>\n",
              "    </tr>\n",
              "    <tr>\n",
              "      <th>3</th>\n",
              "      <td>FDX07</td>\n",
              "      <td>19.20</td>\n",
              "      <td>Regular</td>\n",
              "      <td>0.000000</td>\n",
              "      <td>Fruits and Vegetables</td>\n",
              "      <td>182.0950</td>\n",
              "      <td>OUT010</td>\n",
              "      <td>1998</td>\n",
              "      <td>NaN</td>\n",
              "      <td>Tier 3</td>\n",
              "      <td>Grocery Store</td>\n",
              "      <td>732.3800</td>\n",
              "    </tr>\n",
              "    <tr>\n",
              "      <th>4</th>\n",
              "      <td>NCD19</td>\n",
              "      <td>8.93</td>\n",
              "      <td>Low Fat</td>\n",
              "      <td>0.000000</td>\n",
              "      <td>Household</td>\n",
              "      <td>53.8614</td>\n",
              "      <td>OUT013</td>\n",
              "      <td>1987</td>\n",
              "      <td>High</td>\n",
              "      <td>Tier 3</td>\n",
              "      <td>Supermarket Type1</td>\n",
              "      <td>994.7052</td>\n",
              "    </tr>\n",
              "  </tbody>\n",
              "</table>\n",
              "</div>"
            ],
            "text/plain": [
              "  Item_Identifier  Item_Weight  ...        Outlet_Type  Item_Outlet_Sales\n",
              "0           FDA15         9.30  ...  Supermarket Type1          3735.1380\n",
              "1           DRC01         5.92  ...  Supermarket Type2           443.4228\n",
              "2           FDN15        17.50  ...  Supermarket Type1          2097.2700\n",
              "3           FDX07        19.20  ...      Grocery Store           732.3800\n",
              "4           NCD19         8.93  ...  Supermarket Type1           994.7052\n",
              "\n",
              "[5 rows x 12 columns]"
            ]
          },
          "metadata": {
            "tags": []
          },
          "execution_count": 1
        }
      ]
    },
    {
      "cell_type": "code",
      "metadata": {
        "colab": {
          "base_uri": "https://localhost:8080/",
          "height": 297
        },
        "id": "yQ0ntETeDhXH",
        "outputId": "65725c4d-c72d-4627-9155-325e55d13b00"
      },
      "source": [
        "df.describe()"
      ],
      "execution_count": 2,
      "outputs": [
        {
          "output_type": "execute_result",
          "data": {
            "text/html": [
              "<div>\n",
              "<style scoped>\n",
              "    .dataframe tbody tr th:only-of-type {\n",
              "        vertical-align: middle;\n",
              "    }\n",
              "\n",
              "    .dataframe tbody tr th {\n",
              "        vertical-align: top;\n",
              "    }\n",
              "\n",
              "    .dataframe thead th {\n",
              "        text-align: right;\n",
              "    }\n",
              "</style>\n",
              "<table border=\"1\" class=\"dataframe\">\n",
              "  <thead>\n",
              "    <tr style=\"text-align: right;\">\n",
              "      <th></th>\n",
              "      <th>Item_Weight</th>\n",
              "      <th>Item_Visibility</th>\n",
              "      <th>Item_MRP</th>\n",
              "      <th>Outlet_Establishment_Year</th>\n",
              "      <th>Item_Outlet_Sales</th>\n",
              "    </tr>\n",
              "  </thead>\n",
              "  <tbody>\n",
              "    <tr>\n",
              "      <th>count</th>\n",
              "      <td>7060.000000</td>\n",
              "      <td>8523.000000</td>\n",
              "      <td>8523.000000</td>\n",
              "      <td>8523.000000</td>\n",
              "      <td>8523.000000</td>\n",
              "    </tr>\n",
              "    <tr>\n",
              "      <th>mean</th>\n",
              "      <td>12.857645</td>\n",
              "      <td>0.066132</td>\n",
              "      <td>140.992782</td>\n",
              "      <td>1997.831867</td>\n",
              "      <td>2181.288914</td>\n",
              "    </tr>\n",
              "    <tr>\n",
              "      <th>std</th>\n",
              "      <td>4.643456</td>\n",
              "      <td>0.051598</td>\n",
              "      <td>62.275067</td>\n",
              "      <td>8.371760</td>\n",
              "      <td>1706.499616</td>\n",
              "    </tr>\n",
              "    <tr>\n",
              "      <th>min</th>\n",
              "      <td>4.555000</td>\n",
              "      <td>0.000000</td>\n",
              "      <td>31.290000</td>\n",
              "      <td>1985.000000</td>\n",
              "      <td>33.290000</td>\n",
              "    </tr>\n",
              "    <tr>\n",
              "      <th>25%</th>\n",
              "      <td>8.773750</td>\n",
              "      <td>0.026989</td>\n",
              "      <td>93.826500</td>\n",
              "      <td>1987.000000</td>\n",
              "      <td>834.247400</td>\n",
              "    </tr>\n",
              "    <tr>\n",
              "      <th>50%</th>\n",
              "      <td>12.600000</td>\n",
              "      <td>0.053931</td>\n",
              "      <td>143.012800</td>\n",
              "      <td>1999.000000</td>\n",
              "      <td>1794.331000</td>\n",
              "    </tr>\n",
              "    <tr>\n",
              "      <th>75%</th>\n",
              "      <td>16.850000</td>\n",
              "      <td>0.094585</td>\n",
              "      <td>185.643700</td>\n",
              "      <td>2004.000000</td>\n",
              "      <td>3101.296400</td>\n",
              "    </tr>\n",
              "    <tr>\n",
              "      <th>max</th>\n",
              "      <td>21.350000</td>\n",
              "      <td>0.328391</td>\n",
              "      <td>266.888400</td>\n",
              "      <td>2009.000000</td>\n",
              "      <td>13086.964800</td>\n",
              "    </tr>\n",
              "  </tbody>\n",
              "</table>\n",
              "</div>"
            ],
            "text/plain": [
              "       Item_Weight  ...  Item_Outlet_Sales\n",
              "count  7060.000000  ...        8523.000000\n",
              "mean     12.857645  ...        2181.288914\n",
              "std       4.643456  ...        1706.499616\n",
              "min       4.555000  ...          33.290000\n",
              "25%       8.773750  ...         834.247400\n",
              "50%      12.600000  ...        1794.331000\n",
              "75%      16.850000  ...        3101.296400\n",
              "max      21.350000  ...       13086.964800\n",
              "\n",
              "[8 rows x 5 columns]"
            ]
          },
          "metadata": {
            "tags": []
          },
          "execution_count": 2
        }
      ]
    },
    {
      "cell_type": "code",
      "metadata": {
        "id": "PehWsjANgqAh",
        "colab": {
          "base_uri": "https://localhost:8080/"
        },
        "outputId": "7c465f8b-6919-435b-e873-6b583421fc0d"
      },
      "source": [
        "df.duplicated().sum()"
      ],
      "execution_count": 3,
      "outputs": [
        {
          "output_type": "execute_result",
          "data": {
            "text/plain": [
              "0"
            ]
          },
          "metadata": {
            "tags": []
          },
          "execution_count": 3
        }
      ]
    },
    {
      "cell_type": "code",
      "metadata": {
        "id": "-8jFSKB_toMY",
        "colab": {
          "base_uri": "https://localhost:8080/"
        },
        "outputId": "0b62aeee-561b-4c6e-fbc4-719d02e08e0d"
      },
      "source": [
        "df.isna().sum()"
      ],
      "execution_count": 4,
      "outputs": [
        {
          "output_type": "execute_result",
          "data": {
            "text/plain": [
              "Item_Identifier                 0\n",
              "Item_Weight                  1463\n",
              "Item_Fat_Content                0\n",
              "Item_Visibility                 0\n",
              "Item_Type                       0\n",
              "Item_MRP                        0\n",
              "Outlet_Identifier               0\n",
              "Outlet_Establishment_Year       0\n",
              "Outlet_Size                  2410\n",
              "Outlet_Location_Type            0\n",
              "Outlet_Type                     0\n",
              "Item_Outlet_Sales               0\n",
              "dtype: int64"
            ]
          },
          "metadata": {
            "tags": []
          },
          "execution_count": 4
        }
      ]
    },
    {
      "cell_type": "code",
      "metadata": {
        "id": "PDreA6_J6n1w"
      },
      "source": [
        "df['Item_Weight'].fillna(0, inplace=True)"
      ],
      "execution_count": 5,
      "outputs": []
    },
    {
      "cell_type": "code",
      "metadata": {
        "id": "xBshXdrOu0Y1"
      },
      "source": [
        "df['Outlet_Size'].fillna('Unknown', inplace=True)"
      ],
      "execution_count": 6,
      "outputs": []
    },
    {
      "cell_type": "code",
      "metadata": {
        "id": "tt3RY6YP2sim",
        "colab": {
          "base_uri": "https://localhost:8080/"
        },
        "outputId": "9ce56d5e-c4ea-482e-cab9-d3f049216377"
      },
      "source": [
        "df.isna().sum()"
      ],
      "execution_count": 7,
      "outputs": [
        {
          "output_type": "execute_result",
          "data": {
            "text/plain": [
              "Item_Identifier              0\n",
              "Item_Weight                  0\n",
              "Item_Fat_Content             0\n",
              "Item_Visibility              0\n",
              "Item_Type                    0\n",
              "Item_MRP                     0\n",
              "Outlet_Identifier            0\n",
              "Outlet_Establishment_Year    0\n",
              "Outlet_Size                  0\n",
              "Outlet_Location_Type         0\n",
              "Outlet_Type                  0\n",
              "Item_Outlet_Sales            0\n",
              "dtype: int64"
            ]
          },
          "metadata": {
            "tags": []
          },
          "execution_count": 7
        }
      ]
    },
    {
      "cell_type": "code",
      "metadata": {
        "id": "COGWoOs82wgG",
        "colab": {
          "base_uri": "https://localhost:8080/",
          "height": 549
        },
        "outputId": "d340d0ea-6de3-426e-b9a1-72b68e7d17d1"
      },
      "source": [
        " df.sort_values(by= ['Item_Outlet_Sales'], ascending=False).head(10)"
      ],
      "execution_count": 8,
      "outputs": [
        {
          "output_type": "execute_result",
          "data": {
            "text/html": [
              "<div>\n",
              "<style scoped>\n",
              "    .dataframe tbody tr th:only-of-type {\n",
              "        vertical-align: middle;\n",
              "    }\n",
              "\n",
              "    .dataframe tbody tr th {\n",
              "        vertical-align: top;\n",
              "    }\n",
              "\n",
              "    .dataframe thead th {\n",
              "        text-align: right;\n",
              "    }\n",
              "</style>\n",
              "<table border=\"1\" class=\"dataframe\">\n",
              "  <thead>\n",
              "    <tr style=\"text-align: right;\">\n",
              "      <th></th>\n",
              "      <th>Item_Identifier</th>\n",
              "      <th>Item_Weight</th>\n",
              "      <th>Item_Fat_Content</th>\n",
              "      <th>Item_Visibility</th>\n",
              "      <th>Item_Type</th>\n",
              "      <th>Item_MRP</th>\n",
              "      <th>Outlet_Identifier</th>\n",
              "      <th>Outlet_Establishment_Year</th>\n",
              "      <th>Outlet_Size</th>\n",
              "      <th>Outlet_Location_Type</th>\n",
              "      <th>Outlet_Type</th>\n",
              "      <th>Item_Outlet_Sales</th>\n",
              "    </tr>\n",
              "  </thead>\n",
              "  <tbody>\n",
              "    <tr>\n",
              "      <th>7188</th>\n",
              "      <td>NCE42</td>\n",
              "      <td>0.000</td>\n",
              "      <td>Low Fat</td>\n",
              "      <td>0.010551</td>\n",
              "      <td>Household</td>\n",
              "      <td>234.9958</td>\n",
              "      <td>OUT027</td>\n",
              "      <td>1985</td>\n",
              "      <td>Medium</td>\n",
              "      <td>Tier 3</td>\n",
              "      <td>Supermarket Type3</td>\n",
              "      <td>13086.9648</td>\n",
              "    </tr>\n",
              "    <tr>\n",
              "      <th>5223</th>\n",
              "      <td>FDQ19</td>\n",
              "      <td>0.000</td>\n",
              "      <td>Regular</td>\n",
              "      <td>0.014296</td>\n",
              "      <td>Fruits and Vegetables</td>\n",
              "      <td>242.6512</td>\n",
              "      <td>OUT027</td>\n",
              "      <td>1985</td>\n",
              "      <td>Medium</td>\n",
              "      <td>Tier 3</td>\n",
              "      <td>Supermarket Type3</td>\n",
              "      <td>12117.5600</td>\n",
              "    </tr>\n",
              "    <tr>\n",
              "      <th>1450</th>\n",
              "      <td>FDZ20</td>\n",
              "      <td>0.000</td>\n",
              "      <td>Low Fat</td>\n",
              "      <td>0.000000</td>\n",
              "      <td>Fruits and Vegetables</td>\n",
              "      <td>253.0356</td>\n",
              "      <td>OUT027</td>\n",
              "      <td>1985</td>\n",
              "      <td>Medium</td>\n",
              "      <td>Tier 3</td>\n",
              "      <td>Supermarket Type3</td>\n",
              "      <td>11445.1020</td>\n",
              "    </tr>\n",
              "    <tr>\n",
              "      <th>4349</th>\n",
              "      <td>FDP33</td>\n",
              "      <td>0.000</td>\n",
              "      <td>Low Fat</td>\n",
              "      <td>0.088840</td>\n",
              "      <td>Snack Foods</td>\n",
              "      <td>254.2672</td>\n",
              "      <td>OUT027</td>\n",
              "      <td>1985</td>\n",
              "      <td>Medium</td>\n",
              "      <td>Tier 3</td>\n",
              "      <td>Supermarket Type3</td>\n",
              "      <td>10993.6896</td>\n",
              "    </tr>\n",
              "    <tr>\n",
              "      <th>6541</th>\n",
              "      <td>FDI50</td>\n",
              "      <td>0.000</td>\n",
              "      <td>Regular</td>\n",
              "      <td>0.030693</td>\n",
              "      <td>Canned</td>\n",
              "      <td>228.0352</td>\n",
              "      <td>OUT027</td>\n",
              "      <td>1985</td>\n",
              "      <td>Medium</td>\n",
              "      <td>Tier 3</td>\n",
              "      <td>Supermarket Type3</td>\n",
              "      <td>10306.5840</td>\n",
              "    </tr>\n",
              "    <tr>\n",
              "      <th>4888</th>\n",
              "      <td>FDF39</td>\n",
              "      <td>14.850</td>\n",
              "      <td>Regular</td>\n",
              "      <td>0.019495</td>\n",
              "      <td>Dairy</td>\n",
              "      <td>261.2910</td>\n",
              "      <td>OUT013</td>\n",
              "      <td>1987</td>\n",
              "      <td>High</td>\n",
              "      <td>Tier 3</td>\n",
              "      <td>Supermarket Type1</td>\n",
              "      <td>10256.6490</td>\n",
              "    </tr>\n",
              "    <tr>\n",
              "      <th>1009</th>\n",
              "      <td>FDU14</td>\n",
              "      <td>0.000</td>\n",
              "      <td>Low Fat</td>\n",
              "      <td>0.034584</td>\n",
              "      <td>Dairy</td>\n",
              "      <td>248.3750</td>\n",
              "      <td>OUT027</td>\n",
              "      <td>1985</td>\n",
              "      <td>Medium</td>\n",
              "      <td>Tier 3</td>\n",
              "      <td>Supermarket Type3</td>\n",
              "      <td>10236.6750</td>\n",
              "    </tr>\n",
              "    <tr>\n",
              "      <th>7191</th>\n",
              "      <td>NCH18</td>\n",
              "      <td>0.000</td>\n",
              "      <td>Low Fat</td>\n",
              "      <td>0.044445</td>\n",
              "      <td>Household</td>\n",
              "      <td>245.2802</td>\n",
              "      <td>OUT027</td>\n",
              "      <td>1985</td>\n",
              "      <td>Medium</td>\n",
              "      <td>Tier 3</td>\n",
              "      <td>Supermarket Type3</td>\n",
              "      <td>10072.8882</td>\n",
              "    </tr>\n",
              "    <tr>\n",
              "      <th>4289</th>\n",
              "      <td>NCM05</td>\n",
              "      <td>6.825</td>\n",
              "      <td>Low Fat</td>\n",
              "      <td>0.059847</td>\n",
              "      <td>Health and Hygiene</td>\n",
              "      <td>262.5226</td>\n",
              "      <td>OUT046</td>\n",
              "      <td>1997</td>\n",
              "      <td>Small</td>\n",
              "      <td>Tier 1</td>\n",
              "      <td>Supermarket Type1</td>\n",
              "      <td>9779.9362</td>\n",
              "    </tr>\n",
              "    <tr>\n",
              "      <th>7752</th>\n",
              "      <td>FDC17</td>\n",
              "      <td>0.000</td>\n",
              "      <td>Low Fat</td>\n",
              "      <td>0.015386</td>\n",
              "      <td>Frozen Foods</td>\n",
              "      <td>208.9928</td>\n",
              "      <td>OUT027</td>\n",
              "      <td>1985</td>\n",
              "      <td>Medium</td>\n",
              "      <td>Tier 3</td>\n",
              "      <td>Supermarket Type3</td>\n",
              "      <td>9678.0688</td>\n",
              "    </tr>\n",
              "  </tbody>\n",
              "</table>\n",
              "</div>"
            ],
            "text/plain": [
              "     Item_Identifier  Item_Weight  ...        Outlet_Type  Item_Outlet_Sales\n",
              "7188           NCE42        0.000  ...  Supermarket Type3         13086.9648\n",
              "5223           FDQ19        0.000  ...  Supermarket Type3         12117.5600\n",
              "1450           FDZ20        0.000  ...  Supermarket Type3         11445.1020\n",
              "4349           FDP33        0.000  ...  Supermarket Type3         10993.6896\n",
              "6541           FDI50        0.000  ...  Supermarket Type3         10306.5840\n",
              "4888           FDF39       14.850  ...  Supermarket Type1         10256.6490\n",
              "1009           FDU14        0.000  ...  Supermarket Type3         10236.6750\n",
              "7191           NCH18        0.000  ...  Supermarket Type3         10072.8882\n",
              "4289           NCM05        6.825  ...  Supermarket Type1          9779.9362\n",
              "7752           FDC17        0.000  ...  Supermarket Type3          9678.0688\n",
              "\n",
              "[10 rows x 12 columns]"
            ]
          },
          "metadata": {
            "tags": []
          },
          "execution_count": 8
        }
      ]
    },
    {
      "cell_type": "code",
      "metadata": {
        "id": "vRaPm9TEB89m",
        "colab": {
          "base_uri": "https://localhost:8080/"
        },
        "outputId": "858b181b-611f-45b4-a4e3-7c70f5e89c4f"
      },
      "source": [
        "df.duplicated('Item_Identifier').sum()"
      ],
      "execution_count": 9,
      "outputs": [
        {
          "output_type": "execute_result",
          "data": {
            "text/plain": [
              "6964"
            ]
          },
          "metadata": {
            "tags": []
          },
          "execution_count": 9
        }
      ]
    },
    {
      "cell_type": "code",
      "metadata": {
        "id": "ghio50_3DE9k",
        "colab": {
          "base_uri": "https://localhost:8080/",
          "height": 464
        },
        "outputId": "20b8ee62-5721-477f-fd7a-6c295d71b756"
      },
      "source": [
        "df.sort_values(by= ['Item_Visibility'], ascending=False).head(10)"
      ],
      "execution_count": 10,
      "outputs": [
        {
          "output_type": "execute_result",
          "data": {
            "text/html": [
              "<div>\n",
              "<style scoped>\n",
              "    .dataframe tbody tr th:only-of-type {\n",
              "        vertical-align: middle;\n",
              "    }\n",
              "\n",
              "    .dataframe tbody tr th {\n",
              "        vertical-align: top;\n",
              "    }\n",
              "\n",
              "    .dataframe thead th {\n",
              "        text-align: right;\n",
              "    }\n",
              "</style>\n",
              "<table border=\"1\" class=\"dataframe\">\n",
              "  <thead>\n",
              "    <tr style=\"text-align: right;\">\n",
              "      <th></th>\n",
              "      <th>Item_Identifier</th>\n",
              "      <th>Item_Weight</th>\n",
              "      <th>Item_Fat_Content</th>\n",
              "      <th>Item_Visibility</th>\n",
              "      <th>Item_Type</th>\n",
              "      <th>Item_MRP</th>\n",
              "      <th>Outlet_Identifier</th>\n",
              "      <th>Outlet_Establishment_Year</th>\n",
              "      <th>Outlet_Size</th>\n",
              "      <th>Outlet_Location_Type</th>\n",
              "      <th>Outlet_Type</th>\n",
              "      <th>Item_Outlet_Sales</th>\n",
              "    </tr>\n",
              "  </thead>\n",
              "  <tbody>\n",
              "    <tr>\n",
              "      <th>854</th>\n",
              "      <td>FDU13</td>\n",
              "      <td>0.00</td>\n",
              "      <td>low fat</td>\n",
              "      <td>0.328391</td>\n",
              "      <td>Canned</td>\n",
              "      <td>146.0418</td>\n",
              "      <td>OUT019</td>\n",
              "      <td>1985</td>\n",
              "      <td>Small</td>\n",
              "      <td>Tier 1</td>\n",
              "      <td>Grocery Store</td>\n",
              "      <td>588.5672</td>\n",
              "    </tr>\n",
              "    <tr>\n",
              "      <th>3750</th>\n",
              "      <td>NCZ18</td>\n",
              "      <td>0.00</td>\n",
              "      <td>Low Fat</td>\n",
              "      <td>0.325781</td>\n",
              "      <td>Household</td>\n",
              "      <td>252.7698</td>\n",
              "      <td>OUT019</td>\n",
              "      <td>1985</td>\n",
              "      <td>Small</td>\n",
              "      <td>Tier 1</td>\n",
              "      <td>Grocery Store</td>\n",
              "      <td>761.0094</td>\n",
              "    </tr>\n",
              "    <tr>\n",
              "      <th>1805</th>\n",
              "      <td>FDJ56</td>\n",
              "      <td>0.00</td>\n",
              "      <td>Low Fat</td>\n",
              "      <td>0.321115</td>\n",
              "      <td>Fruits and Vegetables</td>\n",
              "      <td>100.7700</td>\n",
              "      <td>OUT019</td>\n",
              "      <td>1985</td>\n",
              "      <td>Small</td>\n",
              "      <td>Tier 1</td>\n",
              "      <td>Grocery Store</td>\n",
              "      <td>199.7400</td>\n",
              "    </tr>\n",
              "    <tr>\n",
              "      <th>7250</th>\n",
              "      <td>FDT24</td>\n",
              "      <td>12.35</td>\n",
              "      <td>Regular</td>\n",
              "      <td>0.311090</td>\n",
              "      <td>Baking Goods</td>\n",
              "      <td>79.2328</td>\n",
              "      <td>OUT010</td>\n",
              "      <td>1998</td>\n",
              "      <td>Unknown</td>\n",
              "      <td>Tier 3</td>\n",
              "      <td>Grocery Store</td>\n",
              "      <td>154.4656</td>\n",
              "    </tr>\n",
              "    <tr>\n",
              "      <th>2855</th>\n",
              "      <td>NCE31</td>\n",
              "      <td>7.67</td>\n",
              "      <td>Low Fat</td>\n",
              "      <td>0.309390</td>\n",
              "      <td>Household</td>\n",
              "      <td>33.2216</td>\n",
              "      <td>OUT010</td>\n",
              "      <td>1998</td>\n",
              "      <td>Unknown</td>\n",
              "      <td>Tier 3</td>\n",
              "      <td>Grocery Store</td>\n",
              "      <td>138.4864</td>\n",
              "    </tr>\n",
              "    <tr>\n",
              "      <th>4382</th>\n",
              "      <td>FDG32</td>\n",
              "      <td>0.00</td>\n",
              "      <td>Low Fat</td>\n",
              "      <td>0.308145</td>\n",
              "      <td>Fruits and Vegetables</td>\n",
              "      <td>222.0772</td>\n",
              "      <td>OUT019</td>\n",
              "      <td>1985</td>\n",
              "      <td>Small</td>\n",
              "      <td>Tier 1</td>\n",
              "      <td>Grocery Store</td>\n",
              "      <td>889.5088</td>\n",
              "    </tr>\n",
              "    <tr>\n",
              "      <th>7603</th>\n",
              "      <td>DRF01</td>\n",
              "      <td>0.00</td>\n",
              "      <td>Low Fat</td>\n",
              "      <td>0.306543</td>\n",
              "      <td>Soft Drinks</td>\n",
              "      <td>147.3102</td>\n",
              "      <td>OUT019</td>\n",
              "      <td>1985</td>\n",
              "      <td>Small</td>\n",
              "      <td>Tier 1</td>\n",
              "      <td>Grocery Store</td>\n",
              "      <td>291.6204</td>\n",
              "    </tr>\n",
              "    <tr>\n",
              "      <th>6622</th>\n",
              "      <td>FDI32</td>\n",
              "      <td>0.00</td>\n",
              "      <td>Low Fat</td>\n",
              "      <td>0.305305</td>\n",
              "      <td>Fruits and Vegetables</td>\n",
              "      <td>116.6834</td>\n",
              "      <td>OUT019</td>\n",
              "      <td>1985</td>\n",
              "      <td>Small</td>\n",
              "      <td>Tier 1</td>\n",
              "      <td>Grocery Store</td>\n",
              "      <td>460.7336</td>\n",
              "    </tr>\n",
              "    <tr>\n",
              "      <th>3474</th>\n",
              "      <td>FDS12</td>\n",
              "      <td>0.00</td>\n",
              "      <td>LF</td>\n",
              "      <td>0.304859</td>\n",
              "      <td>Baking Goods</td>\n",
              "      <td>125.4362</td>\n",
              "      <td>OUT019</td>\n",
              "      <td>1985</td>\n",
              "      <td>Small</td>\n",
              "      <td>Tier 1</td>\n",
              "      <td>Grocery Store</td>\n",
              "      <td>755.0172</td>\n",
              "    </tr>\n",
              "    <tr>\n",
              "      <th>5150</th>\n",
              "      <td>FDR14</td>\n",
              "      <td>0.00</td>\n",
              "      <td>Low Fat</td>\n",
              "      <td>0.304737</td>\n",
              "      <td>Dairy</td>\n",
              "      <td>54.7298</td>\n",
              "      <td>OUT019</td>\n",
              "      <td>1985</td>\n",
              "      <td>Small</td>\n",
              "      <td>Tier 1</td>\n",
              "      <td>Grocery Store</td>\n",
              "      <td>107.8596</td>\n",
              "    </tr>\n",
              "  </tbody>\n",
              "</table>\n",
              "</div>"
            ],
            "text/plain": [
              "     Item_Identifier  Item_Weight  ...    Outlet_Type  Item_Outlet_Sales\n",
              "854            FDU13         0.00  ...  Grocery Store           588.5672\n",
              "3750           NCZ18         0.00  ...  Grocery Store           761.0094\n",
              "1805           FDJ56         0.00  ...  Grocery Store           199.7400\n",
              "7250           FDT24        12.35  ...  Grocery Store           154.4656\n",
              "2855           NCE31         7.67  ...  Grocery Store           138.4864\n",
              "4382           FDG32         0.00  ...  Grocery Store           889.5088\n",
              "7603           DRF01         0.00  ...  Grocery Store           291.6204\n",
              "6622           FDI32         0.00  ...  Grocery Store           460.7336\n",
              "3474           FDS12         0.00  ...  Grocery Store           755.0172\n",
              "5150           FDR14         0.00  ...  Grocery Store           107.8596\n",
              "\n",
              "[10 rows x 12 columns]"
            ]
          },
          "metadata": {
            "tags": []
          },
          "execution_count": 10
        }
      ]
    },
    {
      "cell_type": "code",
      "metadata": {
        "id": "Lak7Tg0oEIJN",
        "colab": {
          "base_uri": "https://localhost:8080/"
        },
        "outputId": "35df0b62-1211-4b96-cb2d-7002a45296a7"
      },
      "source": [
        "df['Item_Outlet_Sales'].min()"
      ],
      "execution_count": 11,
      "outputs": [
        {
          "output_type": "execute_result",
          "data": {
            "text/plain": [
              "33.29"
            ]
          },
          "metadata": {
            "tags": []
          },
          "execution_count": 11
        }
      ]
    },
    {
      "cell_type": "code",
      "metadata": {
        "colab": {
          "base_uri": "https://localhost:8080/"
        },
        "id": "6tiK4guT3dQx",
        "outputId": "0d2db200-d0d8-4b30-f4c8-53d6b678d326"
      },
      "source": [
        "df['Item_Outlet_Sales'].max()"
      ],
      "execution_count": 12,
      "outputs": [
        {
          "output_type": "execute_result",
          "data": {
            "text/plain": [
              "13086.9648"
            ]
          },
          "metadata": {
            "tags": []
          },
          "execution_count": 12
        }
      ]
    },
    {
      "cell_type": "code",
      "metadata": {
        "colab": {
          "base_uri": "https://localhost:8080/"
        },
        "id": "Mkm-GEHu3xoX",
        "outputId": "fa64bace-cf9f-4a27-e282-a8aa931185cc"
      },
      "source": [
        "df['Item_Outlet_Sales'].mean()"
      ],
      "execution_count": 13,
      "outputs": [
        {
          "output_type": "execute_result",
          "data": {
            "text/plain": [
              "2181.2889135750365"
            ]
          },
          "metadata": {
            "tags": []
          },
          "execution_count": 13
        }
      ]
    },
    {
      "cell_type": "code",
      "metadata": {
        "colab": {
          "base_uri": "https://localhost:8080/",
          "height": 450
        },
        "id": "03afcHKp4VVs",
        "outputId": "a1c88f0a-4543-4e4a-aba4-b49642d2a677"
      },
      "source": [
        "df.groupby(['Item_Identifier']).mean()"
      ],
      "execution_count": 14,
      "outputs": [
        {
          "output_type": "execute_result",
          "data": {
            "text/html": [
              "<div>\n",
              "<style scoped>\n",
              "    .dataframe tbody tr th:only-of-type {\n",
              "        vertical-align: middle;\n",
              "    }\n",
              "\n",
              "    .dataframe tbody tr th {\n",
              "        vertical-align: top;\n",
              "    }\n",
              "\n",
              "    .dataframe thead th {\n",
              "        text-align: right;\n",
              "    }\n",
              "</style>\n",
              "<table border=\"1\" class=\"dataframe\">\n",
              "  <thead>\n",
              "    <tr style=\"text-align: right;\">\n",
              "      <th></th>\n",
              "      <th>Item_Weight</th>\n",
              "      <th>Item_Visibility</th>\n",
              "      <th>Item_MRP</th>\n",
              "      <th>Outlet_Establishment_Year</th>\n",
              "      <th>Item_Outlet_Sales</th>\n",
              "    </tr>\n",
              "    <tr>\n",
              "      <th>Item_Identifier</th>\n",
              "      <th></th>\n",
              "      <th></th>\n",
              "      <th></th>\n",
              "      <th></th>\n",
              "      <th></th>\n",
              "    </tr>\n",
              "  </thead>\n",
              "  <tbody>\n",
              "    <tr>\n",
              "      <th>DRA12</th>\n",
              "      <td>11.600000</td>\n",
              "      <td>0.031956</td>\n",
              "      <td>141.865400</td>\n",
              "      <td>2001.166667</td>\n",
              "      <td>1843.600200</td>\n",
              "    </tr>\n",
              "    <tr>\n",
              "      <th>DRA24</th>\n",
              "      <td>13.821429</td>\n",
              "      <td>0.048062</td>\n",
              "      <td>164.086800</td>\n",
              "      <td>1995.000000</td>\n",
              "      <td>2246.218971</td>\n",
              "    </tr>\n",
              "    <tr>\n",
              "      <th>DRA59</th>\n",
              "      <td>6.202500</td>\n",
              "      <td>0.134718</td>\n",
              "      <td>185.179900</td>\n",
              "      <td>1995.875000</td>\n",
              "      <td>2614.430150</td>\n",
              "    </tr>\n",
              "    <tr>\n",
              "      <th>DRB01</th>\n",
              "      <td>4.926667</td>\n",
              "      <td>0.082126</td>\n",
              "      <td>189.586333</td>\n",
              "      <td>1990.333333</td>\n",
              "      <td>1518.024000</td>\n",
              "    </tr>\n",
              "    <tr>\n",
              "      <th>DRB13</th>\n",
              "      <td>6.115000</td>\n",
              "      <td>0.008002</td>\n",
              "      <td>189.693000</td>\n",
              "      <td>1999.000000</td>\n",
              "      <td>2428.838400</td>\n",
              "    </tr>\n",
              "    <tr>\n",
              "      <th>...</th>\n",
              "      <td>...</td>\n",
              "      <td>...</td>\n",
              "      <td>...</td>\n",
              "      <td>...</td>\n",
              "      <td>...</td>\n",
              "    </tr>\n",
              "    <tr>\n",
              "      <th>NCZ30</th>\n",
              "      <td>5.648571</td>\n",
              "      <td>0.024956</td>\n",
              "      <td>120.752657</td>\n",
              "      <td>1997.428571</td>\n",
              "      <td>1807.647000</td>\n",
              "    </tr>\n",
              "    <tr>\n",
              "      <th>NCZ41</th>\n",
              "      <td>19.850000</td>\n",
              "      <td>0.051623</td>\n",
              "      <td>125.630400</td>\n",
              "      <td>2001.800000</td>\n",
              "      <td>1827.487840</td>\n",
              "    </tr>\n",
              "    <tr>\n",
              "      <th>NCZ42</th>\n",
              "      <td>10.500000</td>\n",
              "      <td>0.009044</td>\n",
              "      <td>236.644800</td>\n",
              "      <td>1999.000000</td>\n",
              "      <td>3839.801760</td>\n",
              "    </tr>\n",
              "    <tr>\n",
              "      <th>NCZ53</th>\n",
              "      <td>7.680000</td>\n",
              "      <td>0.027775</td>\n",
              "      <td>188.321400</td>\n",
              "      <td>1995.600000</td>\n",
              "      <td>3014.742400</td>\n",
              "    </tr>\n",
              "    <tr>\n",
              "      <th>NCZ54</th>\n",
              "      <td>10.464286</td>\n",
              "      <td>0.080426</td>\n",
              "      <td>162.255200</td>\n",
              "      <td>1996.428571</td>\n",
              "      <td>3249.104000</td>\n",
              "    </tr>\n",
              "  </tbody>\n",
              "</table>\n",
              "<p>1559 rows × 5 columns</p>\n",
              "</div>"
            ],
            "text/plain": [
              "                 Item_Weight  ...  Item_Outlet_Sales\n",
              "Item_Identifier               ...                   \n",
              "DRA12              11.600000  ...        1843.600200\n",
              "DRA24              13.821429  ...        2246.218971\n",
              "DRA59               6.202500  ...        2614.430150\n",
              "DRB01               4.926667  ...        1518.024000\n",
              "DRB13               6.115000  ...        2428.838400\n",
              "...                      ...  ...                ...\n",
              "NCZ30               5.648571  ...        1807.647000\n",
              "NCZ41              19.850000  ...        1827.487840\n",
              "NCZ42              10.500000  ...        3839.801760\n",
              "NCZ53               7.680000  ...        3014.742400\n",
              "NCZ54              10.464286  ...        3249.104000\n",
              "\n",
              "[1559 rows x 5 columns]"
            ]
          },
          "metadata": {
            "tags": []
          },
          "execution_count": 14
        }
      ]
    },
    {
      "cell_type": "code",
      "metadata": {
        "colab": {
          "base_uri": "https://localhost:8080/",
          "height": 450
        },
        "id": "Wrp2cBdg6bjA",
        "outputId": "ba791dfb-e65f-4b2a-d804-86aae8ac2c6d"
      },
      "source": [
        "df.loc[:,['Item_Identifier', 'Item_Outlet_Sales']].groupby('Item_Identifier').mean().sort_values(by='Item_Outlet_Sales', ascending=False)"
      ],
      "execution_count": 15,
      "outputs": [
        {
          "output_type": "execute_result",
          "data": {
            "text/html": [
              "<div>\n",
              "<style scoped>\n",
              "    .dataframe tbody tr th:only-of-type {\n",
              "        vertical-align: middle;\n",
              "    }\n",
              "\n",
              "    .dataframe tbody tr th {\n",
              "        vertical-align: top;\n",
              "    }\n",
              "\n",
              "    .dataframe thead th {\n",
              "        text-align: right;\n",
              "    }\n",
              "</style>\n",
              "<table border=\"1\" class=\"dataframe\">\n",
              "  <thead>\n",
              "    <tr style=\"text-align: right;\">\n",
              "      <th></th>\n",
              "      <th>Item_Outlet_Sales</th>\n",
              "    </tr>\n",
              "    <tr>\n",
              "      <th>Item_Identifier</th>\n",
              "      <th></th>\n",
              "    </tr>\n",
              "  </thead>\n",
              "  <tbody>\n",
              "    <tr>\n",
              "      <th>FDR45</th>\n",
              "      <td>6035.310550</td>\n",
              "    </tr>\n",
              "    <tr>\n",
              "      <th>NCL42</th>\n",
              "      <td>5962.017067</td>\n",
              "    </tr>\n",
              "    <tr>\n",
              "      <th>FDU55</th>\n",
              "      <td>5922.457450</td>\n",
              "    </tr>\n",
              "    <tr>\n",
              "      <th>FDZ50</th>\n",
              "      <td>5512.824000</td>\n",
              "    </tr>\n",
              "    <tr>\n",
              "      <th>DRK23</th>\n",
              "      <td>5464.886400</td>\n",
              "    </tr>\n",
              "    <tr>\n",
              "      <th>...</th>\n",
              "      <td>...</td>\n",
              "    </tr>\n",
              "    <tr>\n",
              "      <th>NCN29</th>\n",
              "      <td>311.061760</td>\n",
              "    </tr>\n",
              "    <tr>\n",
              "      <th>FDX10</th>\n",
              "      <td>291.121050</td>\n",
              "    </tr>\n",
              "    <tr>\n",
              "      <th>FDQ04</th>\n",
              "      <td>261.437467</td>\n",
              "    </tr>\n",
              "    <tr>\n",
              "      <th>FDQ60</th>\n",
              "      <td>120.509800</td>\n",
              "    </tr>\n",
              "    <tr>\n",
              "      <th>NCR42</th>\n",
              "      <td>110.966667</td>\n",
              "    </tr>\n",
              "  </tbody>\n",
              "</table>\n",
              "<p>1559 rows × 1 columns</p>\n",
              "</div>"
            ],
            "text/plain": [
              "                 Item_Outlet_Sales\n",
              "Item_Identifier                   \n",
              "FDR45                  6035.310550\n",
              "NCL42                  5962.017067\n",
              "FDU55                  5922.457450\n",
              "FDZ50                  5512.824000\n",
              "DRK23                  5464.886400\n",
              "...                            ...\n",
              "NCN29                   311.061760\n",
              "FDX10                   291.121050\n",
              "FDQ04                   261.437467\n",
              "FDQ60                   120.509800\n",
              "NCR42                   110.966667\n",
              "\n",
              "[1559 rows x 1 columns]"
            ]
          },
          "metadata": {
            "tags": []
          },
          "execution_count": 15
        }
      ]
    },
    {
      "cell_type": "code",
      "metadata": {
        "colab": {
          "base_uri": "https://localhost:8080/"
        },
        "id": "Q9hMQPMu_UoZ",
        "outputId": "7c28f43e-b697-48ed-86d2-dffcab2f0e07"
      },
      "source": [
        "df.nunique()"
      ],
      "execution_count": 16,
      "outputs": [
        {
          "output_type": "execute_result",
          "data": {
            "text/plain": [
              "Item_Identifier              1559\n",
              "Item_Weight                   416\n",
              "Item_Fat_Content                5\n",
              "Item_Visibility              7880\n",
              "Item_Type                      16\n",
              "Item_MRP                     5938\n",
              "Outlet_Identifier              10\n",
              "Outlet_Establishment_Year       9\n",
              "Outlet_Size                     4\n",
              "Outlet_Location_Type            3\n",
              "Outlet_Type                     4\n",
              "Item_Outlet_Sales            3493\n",
              "dtype: int64"
            ]
          },
          "metadata": {
            "tags": []
          },
          "execution_count": 16
        }
      ]
    },
    {
      "cell_type": "markdown",
      "metadata": {
        "id": "0LR_VIvPfCng"
      },
      "source": [
        "Histogram to view the distributions of various features in dataset."
      ]
    },
    {
      "cell_type": "code",
      "metadata": {
        "id": "dRqqVcFYfDwt",
        "colab": {
          "base_uri": "https://localhost:8080/",
          "height": 365
        },
        "outputId": "5a3aed20-c71b-413f-cd89-dbca7337c924"
      },
      "source": [
        "plt.style.use('seaborn')\n",
        "df['Item_Outlet_Sales'].hist(bins=16, label='Sales')\n",
        "plt.xlabel('Item Outlet Sales', fontsize=14)\n",
        "plt.ylabel('Count', fontsize=14)\n",
        "plt.legend();"
      ],
      "execution_count": 17,
      "outputs": [
        {
          "output_type": "display_data",
          "data": {
            "image/png": "[encoded data removed]",
            "text/plain": [
              "<Figure size 576x396 with 1 Axes>"
            ]
          },
          "metadata": {
            "tags": []
          }
        }
      ]
    },
    {
      "cell_type": "code",
      "metadata": {
        "id": "ctwWgTcwfKij",
        "colab": {
          "base_uri": "https://localhost:8080/",
          "height": 365
        },
        "outputId": "43958c81-60e1-4e2d-d386-0a332480d3af"
      },
      "source": [
        "plt.style.use('seaborn')\n",
        "df['Outlet_Type'].hist(bins=4, label='Outlet Type', facecolor='orange')\n",
        "plt.xlabel('Outlet Type', fontsize=14)\n",
        "plt.ylabel('Counts', fontsize=14);\n",
        "plt.legend();"
      ],
      "execution_count": 18,
      "outputs": [
        {
          "output_type": "display_data",
          "data": {
            "image/png": "[encoded data removed]",
            "text/plain": [
              "<Figure size 576x396 with 1 Axes>"
            ]
          },
          "metadata": {
            "tags": []
          }
        }
      ]
    },
    {
      "cell_type": "code",
      "metadata": {
        "colab": {
          "base_uri": "https://localhost:8080/",
          "height": 365
        },
        "id": "iY6QApNzYqjX",
        "outputId": "2f48a5db-604d-47ef-e442-ccab9c20b9cf"
      },
      "source": [
        "plt.style.use('seaborn')\n",
        "df['Item_MRP'].hist(bins=20,label='Outlet Type', color='green', edgecolor='black')\n",
        "plt.xlabel('Item MRP', fontsize=14)\n",
        "plt.ylabel('Counts', fontsize=14);"
      ],
      "execution_count": 19,
      "outputs": [
        {
          "output_type": "display_data",
          "data": {
            "image/png": "[encoded data removed]",
            "text/plain": [
              "<Figure size 576x396 with 1 Axes>"
            ]
          },
          "metadata": {
            "tags": []
          }
        }
      ]
    },
    {
      "cell_type": "markdown",
      "metadata": {
        "id": "4-bwz__8fEGS"
      },
      "source": [
        "Boxplot to view statistical summaries of various features in dataset."
      ]
    },
    {
      "cell_type": "code",
      "metadata": {
        "colab": {
          "base_uri": "https://localhost:8080/",
          "height": 347
        },
        "id": "WLTU5OESaZqE",
        "outputId": "32fa62dd-e8c3-44b4-b9c5-cd4c4951dd16"
      },
      "source": [
        "df.boxplot('Item_MRP', widths = .7, patch_artist=True, medianprops = dict(linestyle='-', linewidth=2, color='red'),notch=True, vert=True, showmeans=True, showcaps=True);"
      ],
      "execution_count": 20,
      "outputs": [
        {
          "output_type": "display_data",
          "data": {
            "image/png": "[encoded data removed]",
            "text/plain": [
              "<Figure size 576x396 with 1 Axes>"
            ]
          },
          "metadata": {
            "tags": []
          }
        }
      ]
    },
    {
      "cell_type": "code",
      "metadata": {
        "colab": {
          "base_uri": "https://localhost:8080/",
          "height": 517
        },
        "id": "17HzN3Z2izn4",
        "outputId": "9b1c1fac-828f-4756-a2b6-e2e60d3c65c8"
      },
      "source": [
        "plt.style.use('seaborn')\n",
        "df.boxplot(by='Item_Type', column='Item_Visibility', fontsize=14, widths = .7, patch_artist=True, medianprops = dict(linestyle='-', linewidth=2, color='red'), showmeans=True, showcaps=True);\n",
        "plt.ylabel('Visibility', fontsize=14)\n",
        "plt.xticks(rotation=90);"
      ],
      "execution_count": 21,
      "outputs": [
        {
          "output_type": "display_data",
          "data": {
            "image/png": "[encoded data removed]",
            "text/plain": [
              "<Figure size 576x396 with 1 Axes>"
            ]
          },
          "metadata": {
            "tags": []
          }
        }
      ]
    },
    {
      "cell_type": "code",
      "metadata": {
        "colab": {
          "base_uri": "https://localhost:8080/",
          "height": 395
        },
        "id": "sIbyH6LM1aCo",
        "outputId": "f2c1c500-065d-4032-fa54-f6f5591ffc83"
      },
      "source": [
        "plt.style.use('seaborn')\n",
        "df.boxplot(by='Outlet_Size', column='Item_Outlet_Sales', fontsize=14, widths = .7, patch_artist=True, medianprops = dict(linestyle='-', linewidth=2, color='red'), showmeans=True, showcaps=True);\n",
        "plt.ylabel('Visibility', fontsize=14);"
      ],
      "execution_count": 22,
      "outputs": [
        {
          "output_type": "display_data",
          "data": {
            "image/png": "[encoded data removed]",
            "text/plain": [
              "<Figure size 576x396 with 1 Axes>"
            ]
          },
          "metadata": {
            "tags": []
          }
        }
      ]
    },
    {
      "cell_type": "markdown",
      "metadata": {
        "id": "dXB0c1IefIiC"
      },
      "source": [
        "Heatmap of the correlation between features."
      ]
    },
    {
      "cell_type": "code",
      "metadata": {
        "id": "QsTMhxCyPC2k",
        "colab": {
          "base_uri": "https://localhost:8080/",
          "height": 476
        },
        "outputId": "fc7c6148-ba2f-43e1-a757-78e6571967ba"
      },
      "source": [
        "sns.heatmap(df.corr(),center=0, cmap='Blues', annot=True).set_title('Sales Correlation', fontsize=16);"
      ],
      "execution_count": 23,
      "outputs": [
        {
          "output_type": "display_data",
          "data": {
            "image/png": "[encoded data removed]",
            "text/plain": [
              "<Figure size 576x396 with 2 Axes>"
            ]
          },
          "metadata": {
            "tags": []
          }
        }
      ]
    },
    {
      "cell_type": "code",
      "metadata": {
        "id": "XG-wiyHTDUHb"
      },
      "source": [
        ""
      ],
      "execution_count": 23,
      "outputs": []
    }
  ]
}